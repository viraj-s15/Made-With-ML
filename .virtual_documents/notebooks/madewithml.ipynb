from wordcloud import WordCloud, STOPWORDS
from sklearn.model_selection import train_test_split
import ray
import pandas as pd
from collections import Counter
import matplotlib.pyplot as plt
import seaborn as sns
import warnings
warnings.filterwarnings("ignore")


if ray.is_initialized():
    ray.shutdown()
ray.init()


ray.cluster_resources()


num_workers = 10
resources_per_worker = {"CPU": 3, "GPU": 1}


URL = "https://raw.githubusercontent.com/GokuMohandas/Made-With-ML/main/datasets/dataset.csv"
df = pd.read_csv(URL)
df.head()


df.isna().sum()


df.tag.unique()


df.tag.value_counts()


test_size = 0.2
train_df, val_df = train_test_split(df, stratify=df.tag, test_size=test_size)


train_df.tag.value_counts()


val_df.tag.value_counts() * int((1-test_size)/test_size)


all_tags = Counter(df.tag)
all_tags.most_common()


tags,tag_counts = zip(*all_tags.most_common())
plt.figure(figsize=(10,3))
ax = sns.barplot(x=list(tags),y=list(tag_counts))
ax.set_xticklabels(tags,rotation=0,fontsize=12)
plt.title("Tag Distribution",fontsize=16)
plt.ylabel("Number of projects",fontsize=14)
plt.show()


tag = "natural-language-processing"
plt.figure(figsize=(10, 3))
subset = df[df.tag == tag]
text = subset.title.values
cloud = WordCloud(
    stopwords=STOPWORDS, background_color="black", collocations=False,
    width=500, height=300).generate(" ".join(text))
plt.axis("off")
plt.imshow(cloud)


tag = "computer-vision"
plt.figure(figsize=(10, 3))
subset = df[df.tag == tag]
text = subset.title.values
cloud = WordCloud(d
    stopwords=STOPWORDS, background_color="black", collocations=False,
    width=500, height=300).generate(" ".join(text))
plt.axis("off")
plt.imshow(cloud)


tag = "other"
plt.figure(figsize=(10, 3))
subset = df[df.tag == tag]
text = subset.title.values
cloud = WordCloud(
    stopwords=STOPWORDS, background_color="black", collocations=False,
    width=500, height=300).generate(" ".join(text))
plt.axis("off")
plt.imshow(cloud)


tag = "mlops"
plt.figure(figsize=(10, 3))
subset = df[df.tag == tag]
text = subset.title.values
cloud = WordCloud(
    stopwords=STOPWORDS, background_color="black", collocations=False,
    width=500, height=300).generate(" ".join(text))
plt.axis("off")
plt.imshow(cloud)



